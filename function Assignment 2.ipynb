{
 "cells": [
  {
   "cell_type": "markdown",
   "id": "2a9725f6-3e02-48d5-880c-68817b25e283",
   "metadata": {},
   "source": [
    "1.Program that sorts the given list of tuples based on the integer value using a lambda function:"
   ]
  },
  {
   "cell_type": "code",
   "execution_count": 7,
   "id": "7fc3db01-7168-4ec1-83e8-319685688c46",
   "metadata": {},
   "outputs": [
    {
     "name": "stdout",
     "output_type": "stream",
     "text": [
      "('Virat Kohli', 24936)\n",
      "('Jack Kallis', 25534)\n",
      "('Ricky Ponting', 27483)\n",
      "('Sachin Tendulkar', 34357)\n"
     ]
    }
   ],
   "source": [
    "l= [('Sachin Tendulkar', 34357), ('Ricky Ponting', 27483), ('Jack Kallis', 25534), ('Virat Kohli', 24936)]\n",
    "\n",
    "sorted_data = sorted(l, key=lambda x: x[1])\n",
    "\n",
    "for item in sorted_data:\n",
    "    print(item)"
   ]
  },
  {
   "cell_type": "markdown",
   "id": "28c3cff8-ffb7-4d94-afec-da04496bd24e",
   "metadata": {},
   "source": [
    "2.Program that uses lambda and map functions to find the squares of all the numbers in the given list:"
   ]
  },
  {
   "cell_type": "code",
   "execution_count": 8,
   "id": "eb8e91b8-8c4f-436e-9e70-2109bca85596",
   "metadata": {},
   "outputs": [
    {
     "name": "stdout",
     "output_type": "stream",
     "text": [
      "[1, 4, 9, 16, 25, 36, 49, 64, 81, 100]\n"
     ]
    }
   ],
   "source": [
    " l = [1, 2, 3, 4, 5, 6, 7, 8, 9, 10]\n",
    "\n",
    "squared_numbers = list(map(lambda x: x ** 2, l))\n",
    "\n",
    "print(squared_numbers)"
   ]
  },
  {
   "cell_type": "markdown",
   "id": "c9a8d54a-3a0b-49fd-9b71-b8c0e0d18509",
   "metadata": {},
   "source": [
    "3.Python program that uses the map and lambda functions to convert a given list of integers into a tuple of string"
   ]
  },
  {
   "cell_type": "code",
   "execution_count": 9,
   "id": "4f55c7b5-8543-425e-8622-e3776622fa47",
   "metadata": {},
   "outputs": [
    {
     "name": "stdout",
     "output_type": "stream",
     "text": [
      "('1', '2', '3', '4', '5', '6', '7', '8', '9', '10')\n"
     ]
    }
   ],
   "source": [
    "l = [1, 2, 3, 4, 5, 6, 7, 8, 9, 10]\n",
    "\n",
    "string_tuple = tuple(map(lambda x: str(x),l))\n",
    "\n",
    "print(string_tuple)"
   ]
  },
  {
   "cell_type": "markdown",
   "id": "8679b5d2-6ae4-431d-808c-0c4e90cbce94",
   "metadata": {},
   "source": [
    "4."
   ]
  },
  {
   "cell_type": "code",
   "execution_count": 10,
   "id": "d5615fa9-45b8-48c9-a41e-bf0f17ae349d",
   "metadata": {},
   "outputs": [
    {
     "name": "stdout",
     "output_type": "stream",
     "text": [
      "15511210043330985984000000\n"
     ]
    }
   ],
   "source": [
    "from functools import reduce\n",
    "numbers = list(range(1, 26))\n",
    "product = reduce(lambda x, y: x * y, numbers)\n",
    "print(product)"
   ]
  },
  {
   "cell_type": "markdown",
   "id": "7d771826-5d87-41f6-89af-f598d53b5459",
   "metadata": {},
   "source": [
    "5. Python program that uses the filter() function to filter out the numbers in the given list that are divisible by both 2 and3 both."
   ]
  },
  {
   "cell_type": "code",
   "execution_count": 15,
   "id": "8baec4ea-e8bf-4f5d-8a68-0abaf791b14d",
   "metadata": {},
   "outputs": [],
   "source": [
    "l=[2, 3, 6, 9, 27, 60, 90, 120, 55, 46]\n",
    "filter_num = list(filter(lambda x: x%2==0 and x%3==0,l))"
   ]
  },
  {
   "cell_type": "code",
   "execution_count": 17,
   "id": "62691dc6-39e8-4d2f-8eff-c045190cd6f2",
   "metadata": {},
   "outputs": [
    {
     "name": "stdout",
     "output_type": "stream",
     "text": [
      "[6, 60, 90, 120]\n"
     ]
    }
   ],
   "source": [
    "print (filter_num)"
   ]
  },
  {
   "cell_type": "markdown",
   "id": "19af82fb-7919-43ef-a79d-6d7bb6266781",
   "metadata": {},
   "source": [
    "6. Python program that uses the filter() function and a lambda function to find palindromes in the given list of strings."
   ]
  },
  {
   "cell_type": "code",
   "execution_count": 19,
   "id": "3247e85b-39f0-4136-8835-e2cdea5b4713",
   "metadata": {},
   "outputs": [
    {
     "name": "stdout",
     "output_type": "stream",
     "text": [
      "['php', 'aba', 'radar', 'level']\n"
     ]
    }
   ],
   "source": [
    "strings = ['python', 'php', 'aba', 'radar', 'level']\n",
    "palindromes = list(filter(lambda x: x == x[::-1], strings))\n",
    "print(palindromes)"
   ]
  },
  {
   "cell_type": "code",
   "execution_count": null,
   "id": "a7b5c74e-436b-4c26-82d7-8d069415ff2b",
   "metadata": {},
   "outputs": [],
   "source": []
  }
 ],
 "metadata": {
  "kernelspec": {
   "display_name": "Python 3 (ipykernel)",
   "language": "python",
   "name": "python3"
  },
  "language_info": {
   "codemirror_mode": {
    "name": "ipython",
    "version": 3
   },
   "file_extension": ".py",
   "mimetype": "text/x-python",
   "name": "python",
   "nbconvert_exporter": "python",
   "pygments_lexer": "ipython3",
   "version": "3.10.8"
  }
 },
 "nbformat": 4,
 "nbformat_minor": 5
}
